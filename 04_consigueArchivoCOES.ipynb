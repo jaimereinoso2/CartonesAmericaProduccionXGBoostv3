{
 "cells": [
  {
   "cell_type": "markdown",
   "metadata": {},
   "source": [
    "### **Datos COES hasta hoy** "
   ]
  },
  {
   "cell_type": "code",
   "execution_count": 1,
   "metadata": {},
   "outputs": [],
   "source": [
    "from selenium import webdriver\n",
    "import datetime\n",
    "\n",
    "import requests\n",
    "from bs4 import BeautifulSoup\n",
    "\n",
    "import pandas as pd"
   ]
  },
  {
   "cell_type": "code",
   "execution_count": 2,
   "metadata": {},
   "outputs": [
    {
     "name": "stderr",
     "output_type": "stream",
     "text": [
      "The chromedriver version (120.0.6099.109) detected in PATH at /usr/local/bin/chromedriver might not be compatible with the detected chrome version (121.0.6167.160); currently, chromedriver 121.0.6167.85 is recommended for chrome 121.*, so it is advised to delete the driver in PATH and retry\n"
     ]
    },
    {
     "name": "stdout",
     "output_type": "stream",
     "text": [
      "10-02-2024\n"
     ]
    }
   ],
   "source": [
    "# chromedriver veresion 122\n",
    "# chorme version \n",
    "\n",
    "driver = webdriver.Chrome()\n",
    "webCOES = 'https://www.coes.org.pe/Portal/portalinformacion/demanda'\n",
    "driver.get(webCOES)\n",
    "\n",
    "# Encuentra un elemento por su ID utilizando un selector CSS\n",
    "fechaInicial = driver.find_element(\"css selector\", \"#txtFechaInicial\")\n",
    "# asignamos un año atras de datos\n",
    "fechaInicial.send_keys(\"01/01/2022\")\n",
    "\n",
    "fechaDeHoy = datetime.date.today()\n",
    "fechaDeHoy = fechaDeHoy.strftime(\"%d-%m-%Y\")\n",
    "\n",
    "print(fechaDeHoy)\n",
    "\n",
    "fechaFinal= driver.find_element(\"css selector\", \"#txtFechaFinal\")\n",
    "# asignamos un año atras de datos\n",
    "fechaFinal.send_keys(fechaDeHoy)\n",
    "\n",
    "boton = driver.find_element(\"css selector\", \"#btnExportar\")\n",
    "boton.click()\n",
    "\n",
    "import time\n",
    "\n",
    "# Espera durante 10 segundos\n",
    "time.sleep(20)\n",
    "\n",
    "driver.quit()\n",
    "\n"
   ]
  },
  {
   "cell_type": "markdown",
   "metadata": {},
   "source": [
    "### **COBRE**"
   ]
  },
  {
   "cell_type": "code",
   "execution_count": 3,
   "metadata": {},
   "outputs": [],
   "source": [
    "from datetime import  timedelta\n",
    "\n",
    "fechaActual = datetime.datetime.now()\n",
    "fechaInicial  = fechaActual - timedelta(days=365*2)\n",
    "\n",
    "fechaActualStr = fechaActual.strftime('%Y-%m-%d')\n",
    "fechaInicialStr = fechaInicial.strftime('%Y-%m-%d')\n",
    "\n",
    "webCOBRE = 'https://estadisticas.bcrp.gob.pe/estadisticas/series/diarias/resultados/PD04701XD/html/' \n",
    "webCOBRE = webCOBRE + fechaInicialStr + '/' + fechaActualStr\n",
    "\n",
    "# Realizar la solicitud GET a la página web\n",
    "response = requests.get(webCOBRE)\n",
    "\n",
    "resultado =[]\n",
    "\n",
    "# Comprobar si la solicitud fue exitosa (código de estado 200)\n",
    "if response.status_code == 200:\n",
    "    # Analizar el HTML de la página web\n",
    "    soup = BeautifulSoup(response.content, 'html.parser')\n",
    "    \n",
    "    # Encontrar todos los elementos <td> con la clase 'periodo'\n",
    "    periodos = soup.find_all('td', class_='periodo')\n",
    "    \n",
    "    # Encontrar todos los elementos <td> con la clase 'dato'\n",
    "    datos = soup.find_all('td', class_='dato')\n",
    "\n",
    "    periodos = [periodo.text.strip() for periodo in periodos]\n",
    "    datos = [dato.text.strip() for dato in datos]\n",
    "    \n",
    "    \n",
    "else:\n",
    "    print(\"La solicitud GET no fue exitosa. Código de estado:\", response.status_code)\n",
    "\n",
    "# Crear el DataFrame\n",
    "df = pd.DataFrame({'fecha': periodos, 'valor': datos})\n",
    "\n",
    "# viene con un error en el nombre de septiembre, pues viene Set en vez de Sep\n",
    "df['fecha'] = df['fecha'].str.replace('Set', 'Sep')\n",
    "\n",
    "import locale\n",
    "locale.setlocale(locale.LC_TIME, 'es_ES.UTF-8')  # Configurar el locale en español\n",
    "\n",
    "df['fechaYYYYMMDD'] = pd.to_datetime(df['fecha'], format='%d%b%y')"
   ]
  },
  {
   "cell_type": "code",
   "execution_count": 4,
   "metadata": {},
   "outputs": [
    {
     "name": "stderr",
     "output_type": "stream",
     "text": [
      "/var/folders/tx/1tx9w9fj6v78n5f12zkwg_vc0000gn/T/ipykernel_41635/3324058987.py:14: FutureWarning: A value is trying to be set on a copy of a DataFrame or Series through chained assignment using an inplace method.\n",
      "The behavior will change in pandas 3.0. This inplace method will never work because the intermediate object on which we are setting values always behaves as a copy.\n",
      "\n",
      "For example, when doing 'df[col].method(value, inplace=True)', try using 'df.method({col: value}, inplace=True)' or df[col] = df[col].method(value) instead, to perform the operation inplace on the original object.\n",
      "\n",
      "\n",
      "  dfResultado['valor'].ffill(inplace=True)\n"
     ]
    }
   ],
   "source": [
    "\n",
    "# Crear un rango de fechas desde el 2021-01-01 hasta el 2024-12-31\n",
    "\n",
    "rangoFechas = pd.date_range(start=fechaInicial, end=fechaActual, freq='D')\n",
    "rangoFechas = rangoFechas.strftime('%Y-%m-%d')\n",
    "\n",
    "# Crear un DataFrame con las fechas del rango\n",
    "dfFechasCompletas = pd.DataFrame({'fechaYYYYMMDD': rangoFechas})\n",
    "dfFechasCompletas['fechaYYYYMMDD'] = pd.to_datetime(dfFechasCompletas['fechaYYYYMMDD'], format='%Y-%m-%d')\n",
    "\n",
    "# Hacer un merge con el DataFrame original usando left join para mantener las fechas del rango\n",
    "dfResultado = pd.merge(dfFechasCompletas, df, on='fechaYYYYMMDD', how='left')\n",
    "\n",
    "# Llenar los valores faltantes con el último valor conocido (forward fill)\n",
    "dfResultado['valor'].ffill(inplace=True)\n",
    "# Ver el resultado\n",
    "df = dfResultado.copy()\n",
    "\n",
    "df = df[['fechaYYYYMMDD','valor']]\n",
    "\n",
    "df.rename(columns={'fechaYYYYMMDD': 'fecha'}, inplace=True)\n",
    "\n",
    "df['fecha'] = df['fecha'].dt.strftime('%Y-%m-%d')\n",
    "\n",
    "df.to_excel('datosCobre.xlsx')\n"
   ]
  },
  {
   "cell_type": "code",
   "execution_count": 5,
   "metadata": {},
   "outputs": [
    {
     "name": "stdout",
     "output_type": "stream",
     "text": [
      "2024-02-10\n",
      "El archivo 'DemandaCOES.xlsx' existe en el directorio y es del día de hoy.\n",
      "Archivo movido exitosamente.\n"
     ]
    }
   ],
   "source": [
    "# ahora vamos a mover el archivo al directorio de cartones_america\n",
    "import os\n",
    "import datetime\n",
    "\n",
    "# Ruta del directorio en el que deseas buscar el archivo\n",
    "directorioOrigen = \"/Users/jaimereinoso/Downloads\"\n",
    "directorioDestino = \".\"\n",
    "\n",
    "# Obtiene la fecha actual\n",
    "hoy = datetime.date.today()\n",
    "\n",
    "# Nombre del archivo que deseas buscar\n",
    "nombreArchivo = \"DemandaCOES.xlsx\"\n",
    "\n",
    "\n",
    "print(hoy)\n",
    "\n",
    "# Ruta completa del archivo que estás buscando\n",
    "rutaOrigen = os.path.join(directorioOrigen, nombreArchivo)\n",
    "rutaDestino = os.path.join(directorioDestino, nombreArchivo)\n",
    "\n",
    "# Verifica si el archivo existe en el directorio\n",
    "if os.path.exists(rutaOrigen):\n",
    "    # Obtiene la fecha de modificación del archivo\n",
    "    fecha_modificacion = datetime.date.fromtimestamp(os.path.getmtime(rutaOrigen))\n",
    "\n",
    "    # Compara la fecha de modificación con la fecha actual\n",
    "    if fecha_modificacion == hoy:\n",
    "        print(f\"El archivo '{nombreArchivo}' existe en el directorio y es del día de hoy.\")\n",
    "    else:\n",
    "        print(f\"El archivo '{nombreArchivo}' existe en el directorio, pero no es del día de hoy.\")\n",
    "else:\n",
    "    print(f\"El archivo '{nombreArchivo}' no existe en el directorio.\")\n",
    "\n",
    "import os\n",
    "import shutil\n",
    "\n",
    "# Mover el archivo a la carpeta de destino y sobrescribir si es necesario\n",
    "try:\n",
    "    os.replace(rutaOrigen, rutaDestino)\n",
    "    print(\"Archivo movido exitosamente.\")\n",
    "except OSError as e:\n",
    "    print(f\"No se pudo mover el archivo: {e}\")\n"
   ]
  },
  {
   "cell_type": "code",
   "execution_count": null,
   "metadata": {},
   "outputs": [],
   "source": []
  },
  {
   "cell_type": "code",
   "execution_count": null,
   "metadata": {},
   "outputs": [],
   "source": []
  },
  {
   "cell_type": "code",
   "execution_count": null,
   "metadata": {},
   "outputs": [],
   "source": []
  },
  {
   "cell_type": "code",
   "execution_count": null,
   "metadata": {},
   "outputs": [],
   "source": []
  },
  {
   "cell_type": "code",
   "execution_count": null,
   "metadata": {},
   "outputs": [],
   "source": []
  },
  {
   "cell_type": "code",
   "execution_count": null,
   "metadata": {},
   "outputs": [],
   "source": []
  }
 ],
 "metadata": {
  "kernelspec": {
   "display_name": "venv",
   "language": "python",
   "name": "python3"
  },
  "language_info": {
   "codemirror_mode": {
    "name": "ipython",
    "version": 3
   },
   "file_extension": ".py",
   "mimetype": "text/x-python",
   "name": "python",
   "nbconvert_exporter": "python",
   "pygments_lexer": "ipython3",
   "version": "3.11.5"
  }
 },
 "nbformat": 4,
 "nbformat_minor": 2
}
